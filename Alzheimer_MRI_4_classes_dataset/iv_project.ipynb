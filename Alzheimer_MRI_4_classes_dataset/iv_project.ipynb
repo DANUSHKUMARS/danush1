{
  "nbformat": 4,
  "nbformat_minor": 0,
  "metadata": {
    "colab": {
      "provenance": [],
      "gpuType": "T4"
    },
    "kernelspec": {
      "name": "python3",
      "display_name": "Python 3"
    },
    "language_info": {
      "name": "python"
    },
    "accelerator": "GPU"
  },
  "cells": [
    {
      "cell_type": "code",
      "execution_count": null,
      "metadata": {
        "colab": {
          "base_uri": "https://localhost:8080/"
        },
        "id": "rNvI2z1NT9CZ",
        "outputId": "2403bdd4-96f3-4a69-988b-cc6352f8c26b"
      },
      "outputs": [
        {
          "output_type": "stream",
          "name": "stdout",
          "text": [
            "Cloning into 'danush'...\n",
            "remote: Enumerating objects: 6407, done.\u001b[K\n",
            "remote: Counting objects: 100% (6407/6407), done.\u001b[K\n",
            "remote: Compressing objects: 100% (6407/6407), done.\u001b[K\n",
            "remote: Total 6407 (delta 0), reused 6407 (delta 0), pack-reused 0 (from 0)\u001b[K\n",
            "Receiving objects: 100% (6407/6407), 32.95 MiB | 15.65 MiB/s, done.\n"
          ]
        }
      ],
      "source": [
        "!git clone https://github.com/DANUSHKUMARS/danush.git"
      ]
    },
    {
      "cell_type": "code",
      "source": [
        "!ls danush/Alzheimer_MRI_4_classes_dataset/MildDemented"
      ],
      "metadata": {
        "colab": {
          "base_uri": "https://localhost:8080/"
        },
        "id": "uhhIpEuJtTLV",
        "outputId": "a09c3c13-17a7-4a9e-a1b6-8b114ec471d0"
      },
      "execution_count": null,
      "outputs": [
        {
          "output_type": "stream",
          "name": "stdout",
          "text": [
            "'10 (10).jpg'  '14 (27).jpg'  '19 (5).jpg'   '24 (19).jpg'  '29 (24).jpg'  '4 (5).jpg'\n",
            "'10 (11).jpg'  '14 (28).jpg'  '19 (6).jpg'   '24 (20).jpg'  '29 (25).jpg'  '4 (6).jpg'\n",
            "'10 (12).jpg'  '14 (2).jpg'   '19 (7).jpg'   '24 (21).jpg'  '29 (26).jpg'  '4 (7).jpg'\n",
            "'10 (13).jpg'  '14 (3).jpg'   '19 (8).jpg'   '24 (22).jpg'  '29 (27).jpg'  '4 (8).jpg'\n",
            "'10 (14).jpg'  '14 (4).jpg'   '19 (9).jpg'   '24 (23).jpg'  '29 (28).jpg'  '4 (9).jpg'\n",
            "'10 (15).jpg'  '14 (5).jpg'    19.jpg\t     '24 (24).jpg'  '29 (2).jpg'    4.jpg\n",
            "'10 (16).jpg'  '14 (6).jpg'   '1 (9).jpg'    '24 (25).jpg'  '29 (3).jpg'   '5 (10).jpg'\n",
            "'10 (17).jpg'  '14 (7).jpg'    1.jpg\t     '24 (26).jpg'  '29 (4).jpg'   '5 (11).jpg'\n",
            "'10 (18).jpg'  '14 (8).jpg'   '20 (10).jpg'  '24 (27).jpg'  '29 (5).jpg'   '5 (12).jpg'\n",
            "'10 (19).jpg'  '14 (9).jpg'   '20 (11).jpg'  '24 (28).jpg'  '29 (6).jpg'   '5 (13).jpg'\n",
            "'10 (20).jpg'   14.jpg\t      '20 (12).jpg'  '24 (2).jpg'   '29 (7).jpg'   '5 (14).jpg'\n",
            "'10 (21).jpg'  '1 (4).jpg'    '20 (13).jpg'  '24 (3).jpg'   '29 (8).jpg'   '5 (15).jpg'\n",
            "'10 (22).jpg'  '15 (10).jpg'  '20 (14).jpg'  '24 (4).jpg'   '29 (9).jpg'   '5 (16).jpg'\n",
            "'10 (23).jpg'  '15 (11).jpg'  '20 (15).jpg'  '24 (5).jpg'    29.jpg\t   '5 (17).jpg'\n",
            "'10 (24).jpg'  '15 (12).jpg'  '20 (16).jpg'  '24 (6).jpg'   '2 (9).jpg'    '5 (18).jpg'\n",
            "'10 (25).jpg'  '15 (13).jpg'  '20 (17).jpg'  '24 (7).jpg'    2.jpg\t   '5 (19).jpg'\n",
            "'10 (26).jpg'  '15 (14).jpg'  '20 (18).jpg'  '24 (8).jpg'   '30 (10).jpg'  '5 (20).jpg'\n",
            "'10 (27).jpg'  '15 (15).jpg'  '20 (19).jpg'  '24 (9).jpg'   '30 (11).jpg'  '5 (21).jpg'\n",
            "'10 (28).jpg'  '15 (16).jpg'  '20 (20).jpg'   24.jpg\t    '30 (12).jpg'  '5 (22).jpg'\n",
            "'10 (2).jpg'   '15 (17).jpg'  '20 (21).jpg'  '2 (4).jpg'    '30 (13).jpg'  '5 (23).jpg'\n",
            "'10 (3).jpg'   '15 (18).jpg'  '20 (22).jpg'  '25 (10).jpg'  '30 (14).jpg'  '5 (24).jpg'\n",
            "'10 (4).jpg'   '15 (19).jpg'  '20 (23).jpg'  '25 (11).jpg'  '30 (15).jpg'  '5 (25).jpg'\n",
            "'10 (5).jpg'   '15 (20).jpg'  '20 (24).jpg'  '25 (12).jpg'  '30 (16).jpg'  '5 (26).jpg'\n",
            "'10 (6).jpg'   '15 (21).jpg'  '20 (25).jpg'  '25 (13).jpg'  '30 (17).jpg'  '5 (27).jpg'\n",
            "'10 (7).jpg'   '15 (22).jpg'  '20 (26).jpg'  '25 (14).jpg'  '30 (18).jpg'  '5 (28).jpg'\n",
            "'10 (8).jpg'   '15 (23).jpg'  '20 (27).jpg'  '25 (15).jpg'  '30 (19).jpg'  '5 (2).jpg'\n",
            "'10 (9).jpg'   '15 (24).jpg'  '20 (28).jpg'  '25 (16).jpg'  '30 (20).jpg'  '5 (3).jpg'\n",
            " 10.jpg        '15 (25).jpg'  '20 (2).jpg'   '25 (17).jpg'  '30 (21).jpg'  '5 (4).jpg'\n",
            "'1 (10).jpg'   '15 (26).jpg'  '20 (3).jpg'   '25 (18).jpg'  '30 (22).jpg'  '5 (5).jpg'\n",
            "'11 (10).jpg'  '15 (27).jpg'  '20 (4).jpg'   '25 (19).jpg'  '30 (23).jpg'  '5 (6).jpg'\n",
            "'11 (11).jpg'  '15 (28).jpg'  '20 (5).jpg'   '25 (20).jpg'  '30 (24).jpg'  '5 (7).jpg'\n",
            "'11 (12).jpg'  '15 (2).jpg'   '20 (6).jpg'   '25 (21).jpg'  '30 (25).jpg'  '5 (8).jpg'\n",
            "'11 (13).jpg'  '15 (3).jpg'   '20 (7).jpg'   '25 (22).jpg'  '30 (26).jpg'  '5 (9).jpg'\n",
            "'11 (14).jpg'  '15 (4).jpg'   '20 (8).jpg'   '25 (23).jpg'  '30 (27).jpg'   5.jpg\n",
            "'11 (15).jpg'  '15 (5).jpg'   '20 (9).jpg'   '25 (24).jpg'  '30 (28).jpg'  '6 (10).jpg'\n",
            "'11 (16).jpg'  '15 (6).jpg'    20.jpg\t     '25 (25).jpg'  '30 (2).jpg'   '6 (11).jpg'\n",
            "'11 (17).jpg'  '15 (7).jpg'   '2 (10).jpg'   '25 (26).jpg'  '30 (3).jpg'   '6 (12).jpg'\n",
            "'11 (18).jpg'  '15 (8).jpg'   '21 (10).jpg'  '25 (27).jpg'  '30 (4).jpg'   '6 (13).jpg'\n",
            "'11 (19).jpg'  '15 (9).jpg'   '21 (11).jpg'  '25 (28).jpg'  '30 (5).jpg'   '6 (14).jpg'\n",
            "'1 (11).jpg'    15.jpg\t      '21 (12).jpg'  '25 (2).jpg'   '30 (6).jpg'   '6 (15).jpg'\n",
            "'11 (20).jpg'  '1 (5).jpg'    '21 (13).jpg'  '25 (3).jpg'   '30 (7).jpg'   '6 (16).jpg'\n",
            "'11 (21).jpg'  '16 (10).jpg'  '21 (14).jpg'  '25 (4).jpg'   '30 (8).jpg'   '6 (17).jpg'\n",
            "'11 (22).jpg'  '16 (11).jpg'  '21 (15).jpg'  '25 (5).jpg'   '30 (9).jpg'   '6 (18).jpg'\n",
            "'11 (23).jpg'  '16 (12).jpg'  '21 (16).jpg'  '25 (6).jpg'    30.jpg\t   '6 (19).jpg'\n",
            "'11 (24).jpg'  '16 (13).jpg'  '21 (17).jpg'  '25 (7).jpg'   '3 (10).jpg'   '6 (20).jpg'\n",
            "'11 (25).jpg'  '16 (14).jpg'  '21 (18).jpg'  '25 (8).jpg'   '31 (10).jpg'  '6 (21).jpg'\n",
            "'11 (26).jpg'  '16 (15).jpg'  '21 (19).jpg'  '25 (9).jpg'   '31 (11).jpg'  '6 (22).jpg'\n",
            "'11 (27).jpg'  '16 (16).jpg'  '2 (11).jpg'    25.jpg\t    '31 (12).jpg'  '6 (23).jpg'\n",
            "'11 (28).jpg'  '16 (17).jpg'  '21 (20).jpg'  '2 (5).jpg'    '31 (13).jpg'  '6 (24).jpg'\n",
            "'1 (12).jpg'   '16 (18).jpg'  '21 (21).jpg'  '26 (10).jpg'  '31 (14).jpg'  '6 (25).jpg'\n",
            "'11 (2).jpg'   '16 (19).jpg'  '21 (22).jpg'  '26 (11).jpg'  '31 (15).jpg'  '6 (26).jpg'\n",
            "'1 (13).jpg'   '16 (20).jpg'  '21 (23).jpg'  '26 (12).jpg'  '31 (16).jpg'  '6 (27).jpg'\n",
            "'11 (3).jpg'   '16 (21).jpg'  '21 (24).jpg'  '26 (13).jpg'  '31 (17).jpg'  '6 (28).jpg'\n",
            "'1 (14).jpg'   '16 (22).jpg'  '21 (25).jpg'  '26 (14).jpg'  '31 (18).jpg'  '6 (2).jpg'\n",
            "'11 (4).jpg'   '16 (23).jpg'  '21 (26).jpg'  '26 (15).jpg'  '31 (19).jpg'  '6 (3).jpg'\n",
            "'1 (15).jpg'   '16 (24).jpg'  '21 (27).jpg'  '26 (16).jpg'  '3 (11).jpg'   '6 (4).jpg'\n",
            "'11 (5).jpg'   '16 (25).jpg'  '21 (28).jpg'  '26 (17).jpg'  '31 (20).jpg'  '6 (5).jpg'\n",
            "'1 (16).jpg'   '16 (26).jpg'  '2 (12).jpg'   '26 (18).jpg'  '31 (21).jpg'  '6 (6).jpg'\n",
            "'11 (6).jpg'   '16 (27).jpg'  '21 (2).jpg'   '26 (19).jpg'  '31 (22).jpg'  '6 (7).jpg'\n",
            "'1 (17).jpg'   '16 (28).jpg'  '2 (13).jpg'   '26 (20).jpg'  '31 (23).jpg'  '6 (8).jpg'\n",
            "'11 (7).jpg'   '16 (2).jpg'   '21 (3).jpg'   '26 (21).jpg'  '31 (24).jpg'  '6 (9).jpg'\n",
            "'1 (18).jpg'   '16 (3).jpg'   '2 (14).jpg'   '26 (22).jpg'  '31 (25).jpg'   6.jpg\n",
            "'11 (8).jpg'   '16 (4).jpg'   '21 (4).jpg'   '26 (23).jpg'  '31 (26).jpg'  '7 (10).jpg'\n",
            "'1 (19).jpg'   '16 (5).jpg'   '2 (15).jpg'   '26 (24).jpg'  '31 (27).jpg'  '7 (11).jpg'\n",
            "'11 (9).jpg'   '16 (6).jpg'   '21 (5).jpg'   '26 (25).jpg'  '31 (28).jpg'  '7 (12).jpg'\n",
            " 11.jpg        '16 (7).jpg'   '2 (16).jpg'   '26 (26).jpg'  '3 (12).jpg'   '7 (13).jpg'\n",
            "'1 (20).jpg'   '16 (8).jpg'   '21 (6).jpg'   '26 (27).jpg'  '31 (2).jpg'   '7 (14).jpg'\n",
            "'12 (10).jpg'  '16 (9).jpg'   '2 (17).jpg'   '26 (28).jpg'  '3 (13).jpg'   '7 (15).jpg'\n",
            "'12 (11).jpg'   16.jpg\t      '21 (7).jpg'   '26 (2).jpg'   '31 (3).jpg'   '7 (16).jpg'\n",
            "'12 (12).jpg'  '1 (6).jpg'    '2 (18).jpg'   '26 (3).jpg'   '3 (14).jpg'   '7 (17).jpg'\n",
            "'12 (13).jpg'  '17 (10).jpg'  '21 (8).jpg'   '26 (4).jpg'   '31 (4).jpg'   '7 (18).jpg'\n",
            "'12 (14).jpg'  '17 (11).jpg'  '2 (19).jpg'   '26 (5).jpg'   '3 (15).jpg'   '7 (19).jpg'\n",
            "'12 (15).jpg'  '17 (12).jpg'  '21 (9).jpg'   '26 (6).jpg'   '31 (5).jpg'   '7 (20).jpg'\n",
            "'12 (16).jpg'  '17 (13).jpg'   21.jpg\t     '26 (7).jpg'   '3 (16).jpg'   '7 (21).jpg'\n",
            "'12 (17).jpg'  '17 (14).jpg'  '2 (20).jpg'   '26 (8).jpg'   '31 (6).jpg'   '7 (22).jpg'\n",
            "'12 (18).jpg'  '17 (15).jpg'  '22 (10).jpg'  '26 (9).jpg'   '3 (17).jpg'   '7 (23).jpg'\n",
            "'12 (19).jpg'  '17 (16).jpg'  '22 (11).jpg'   26.jpg\t    '31 (7).jpg'   '7 (24).jpg'\n",
            "'1 (21).jpg'   '17 (17).jpg'  '22 (12).jpg'  '2 (6).jpg'    '3 (18).jpg'   '7 (25).jpg'\n",
            "'12 (20).jpg'  '17 (18).jpg'  '22 (13).jpg'  '27 (10).jpg'  '31 (8).jpg'   '7 (26).jpg'\n",
            "'12 (21).jpg'  '17 (19).jpg'  '22 (14).jpg'  '27 (11).jpg'  '3 (19).jpg'   '7 (27).jpg'\n",
            "'12 (22).jpg'  '17 (20).jpg'  '22 (15).jpg'  '27 (12).jpg'  '31 (9).jpg'   '7 (28).jpg'\n",
            "'12 (23).jpg'  '17 (21).jpg'  '22 (16).jpg'  '27 (13).jpg'   31.jpg\t   '7 (2).jpg'\n",
            "'12 (24).jpg'  '17 (22).jpg'  '22 (17).jpg'  '27 (14).jpg'  '3 (20).jpg'   '7 (3).jpg'\n",
            "'12 (25).jpg'  '17 (23).jpg'  '22 (18).jpg'  '27 (15).jpg'  '32 (10).jpg'  '7 (4).jpg'\n",
            "'12 (26).jpg'  '17 (24).jpg'  '22 (19).jpg'  '27 (16).jpg'  '32 (11).jpg'  '7 (5).jpg'\n",
            "'12 (27).jpg'  '17 (25).jpg'  '2 (21).jpg'   '27 (17).jpg'  '32 (12).jpg'  '7 (6).jpg'\n",
            "'12 (28).jpg'  '17 (26).jpg'  '22 (20).jpg'  '27 (18).jpg'  '32 (13).jpg'  '7 (7).jpg'\n",
            "'1 (22).jpg'   '17 (27).jpg'  '22 (21).jpg'  '27 (19).jpg'  '32 (14).jpg'  '7 (8).jpg'\n",
            "'12 (2).jpg'   '17 (28).jpg'  '22 (22).jpg'  '27 (20).jpg'  '32 (15).jpg'  '7 (9).jpg'\n",
            "'1 (23).jpg'   '17 (2).jpg'   '22 (23).jpg'  '27 (21).jpg'  '32 (16).jpg'   7.jpg\n",
            "'12 (3).jpg'   '17 (3).jpg'   '22 (24).jpg'  '27 (22).jpg'  '32 (17).jpg'  '8 (10).jpg'\n",
            "'1 (24).jpg'   '17 (4).jpg'   '22 (25).jpg'  '27 (23).jpg'  '32 (18).jpg'  '8 (11).jpg'\n",
            "'12 (4).jpg'   '17 (5).jpg'   '22 (26).jpg'  '27 (24).jpg'  '32 (19).jpg'  '8 (12).jpg'\n",
            "'1 (25).jpg'   '17 (6).jpg'   '22 (27).jpg'  '27 (25).jpg'  '3 (21).jpg'   '8 (13).jpg'\n",
            "'12 (5).jpg'   '17 (7).jpg'   '22 (28).jpg'  '27 (26).jpg'  '32 (20).jpg'  '8 (14).jpg'\n",
            "'1 (26).jpg'   '17 (8).jpg'   '2 (22).jpg'   '27 (27).jpg'  '32 (21).jpg'  '8 (15).jpg'\n",
            "'12 (6).jpg'   '17 (9).jpg'   '22 (2).jpg'   '27 (28).jpg'  '32 (22).jpg'  '8 (16).jpg'\n",
            "'1 (27).jpg'    17.jpg\t      '2 (23).jpg'   '27 (2).jpg'   '32 (23).jpg'  '8 (17).jpg'\n",
            "'12 (7).jpg'   '1 (7).jpg'    '22 (3).jpg'   '27 (3).jpg'   '32 (24).jpg'  '8 (18).jpg'\n",
            "'1 (28).jpg'   '18 (10).jpg'  '2 (24).jpg'   '27 (4).jpg'   '32 (25).jpg'  '8 (19).jpg'\n",
            "'12 (8).jpg'   '18 (11).jpg'  '22 (4).jpg'   '27 (5).jpg'   '32 (26).jpg'  '8 (20).jpg'\n",
            "'12 (9).jpg'   '18 (12).jpg'  '2 (25).jpg'   '27 (6).jpg'   '32 (27).jpg'  '8 (21).jpg'\n",
            " 12.jpg        '18 (13).jpg'  '22 (5).jpg'   '27 (7).jpg'   '32 (28).jpg'  '8 (22).jpg'\n",
            "'1 (2).jpg'    '18 (14).jpg'  '2 (26).jpg'   '27 (8).jpg'   '3 (22).jpg'   '8 (23).jpg'\n",
            "'13 (10).jpg'  '18 (15).jpg'  '22 (6).jpg'   '27 (9).jpg'   '32 (2).jpg'   '8 (24).jpg'\n",
            "'13 (11).jpg'  '18 (16).jpg'  '2 (27).jpg'    27.jpg\t    '3 (23).jpg'   '8 (25).jpg'\n",
            "'13 (12).jpg'  '18 (17).jpg'  '22 (7).jpg'   '2 (7).jpg'    '32 (3).jpg'   '8 (26).jpg'\n",
            "'13 (13).jpg'  '18 (18).jpg'  '2 (28).jpg'   '28 (10).jpg'  '3 (24).jpg'   '8 (27).jpg'\n",
            "'13 (14).jpg'  '18 (19).jpg'  '22 (8).jpg'   '28 (11).jpg'  '32 (4).jpg'   '8 (28).jpg'\n",
            "'13 (15).jpg'  '18 (20).jpg'  '22 (9).jpg'   '28 (12).jpg'  '3 (25).jpg'   '8 (2).jpg'\n",
            "'13 (16).jpg'  '18 (21).jpg'   22.jpg\t     '28 (13).jpg'  '32 (5).jpg'   '8 (3).jpg'\n",
            "'13 (17).jpg'  '18 (22).jpg'  '2 (2).jpg'    '28 (14).jpg'  '3 (26).jpg'   '8 (4).jpg'\n",
            "'13 (18).jpg'  '18 (23).jpg'  '23 (10).jpg'  '28 (15).jpg'  '32 (6).jpg'   '8 (5).jpg'\n",
            "'13 (19).jpg'  '18 (24).jpg'  '23 (11).jpg'  '28 (16).jpg'  '3 (27).jpg'   '8 (6).jpg'\n",
            "'13 (20).jpg'  '18 (25).jpg'  '23 (12).jpg'  '28 (17).jpg'  '32 (7).jpg'   '8 (7).jpg'\n",
            "'13 (21).jpg'  '18 (26).jpg'  '23 (13).jpg'  '28 (18).jpg'  '3 (28).jpg'   '8 (8).jpg'\n",
            "'13 (22).jpg'  '18 (27).jpg'  '23 (14).jpg'  '28 (19).jpg'  '32 (8).jpg'   '8 (9).jpg'\n",
            "'13 (23).jpg'  '18 (28).jpg'  '23 (15).jpg'  '28 (20).jpg'  '32 (9).jpg'    8.jpg\n",
            "'13 (24).jpg'  '18 (2).jpg'   '23 (16).jpg'  '28 (21).jpg'   32.jpg\t   '9 (10).jpg'\n",
            "'13 (25).jpg'  '18 (3).jpg'   '23 (17).jpg'  '28 (22).jpg'  '3 (2).jpg'    '9 (11).jpg'\n",
            "'13 (26).jpg'  '18 (4).jpg'   '23 (18).jpg'  '28 (23).jpg'  '3 (3).jpg'    '9 (12).jpg'\n",
            "'13 (27).jpg'  '18 (5).jpg'   '23 (19).jpg'  '28 (24).jpg'  '3 (4).jpg'    '9 (13).jpg'\n",
            "'13 (28).jpg'  '18 (6).jpg'   '23 (20).jpg'  '28 (25).jpg'  '3 (5).jpg'    '9 (14).jpg'\n",
            "'13 (2).jpg'   '18 (7).jpg'   '23 (21).jpg'  '28 (26).jpg'  '3 (6).jpg'    '9 (15).jpg'\n",
            "'13 (3).jpg'   '18 (8).jpg'   '23 (22).jpg'  '28 (27).jpg'  '3 (7).jpg'    '9 (16).jpg'\n",
            "'13 (4).jpg'   '18 (9).jpg'   '23 (23).jpg'  '28 (28).jpg'  '3 (8).jpg'    '9 (17).jpg'\n",
            "'13 (5).jpg'    18.jpg\t      '23 (24).jpg'  '28 (2).jpg'   '3 (9).jpg'    '9 (18).jpg'\n",
            "'13 (6).jpg'   '1 (8).jpg'    '23 (25).jpg'  '28 (3).jpg'    3.jpg\t   '9 (19).jpg'\n",
            "'13 (7).jpg'   '19 (10).jpg'  '23 (26).jpg'  '28 (4).jpg'   '4 (10).jpg'   '9 (20).jpg'\n",
            "'13 (8).jpg'   '19 (11).jpg'  '23 (27).jpg'  '28 (5).jpg'   '4 (11).jpg'   '9 (21).jpg'\n",
            "'13 (9).jpg'   '19 (12).jpg'  '23 (28).jpg'  '28 (6).jpg'   '4 (12).jpg'   '9 (22).jpg'\n",
            " 13.jpg        '19 (13).jpg'  '23 (2).jpg'   '28 (7).jpg'   '4 (13).jpg'   '9 (23).jpg'\n",
            "'1 (3).jpg'    '19 (14).jpg'  '23 (3).jpg'   '28 (8).jpg'   '4 (14).jpg'   '9 (24).jpg'\n",
            "'14 (10).jpg'  '19 (15).jpg'  '23 (4).jpg'   '28 (9).jpg'   '4 (15).jpg'   '9 (25).jpg'\n",
            "'14 (11).jpg'  '19 (16).jpg'  '23 (5).jpg'    28.jpg\t    '4 (16).jpg'   '9 (26).jpg'\n",
            "'14 (12).jpg'  '19 (17).jpg'  '23 (6).jpg'   '2 (8).jpg'    '4 (17).jpg'   '9 (27).jpg'\n",
            "'14 (13).jpg'  '19 (18).jpg'  '23 (7).jpg'   '29 (10).jpg'  '4 (18).jpg'   '9 (28).jpg'\n",
            "'14 (14).jpg'  '19 (19).jpg'  '23 (8).jpg'   '29 (11).jpg'  '4 (19).jpg'   '9 (2).jpg'\n",
            "'14 (15).jpg'  '19 (20).jpg'  '23 (9).jpg'   '29 (12).jpg'  '4 (20).jpg'   '9 (3).jpg'\n",
            "'14 (16).jpg'  '19 (21).jpg'   23.jpg\t     '29 (13).jpg'  '4 (21).jpg'   '9 (4).jpg'\n",
            "'14 (17).jpg'  '19 (22).jpg'  '2 (3).jpg'    '29 (14).jpg'  '4 (22).jpg'   '9 (5).jpg'\n",
            "'14 (18).jpg'  '19 (23).jpg'  '24 (10).jpg'  '29 (15).jpg'  '4 (23).jpg'   '9 (6).jpg'\n",
            "'14 (19).jpg'  '19 (24).jpg'  '24 (11).jpg'  '29 (16).jpg'  '4 (24).jpg'   '9 (7).jpg'\n",
            "'14 (20).jpg'  '19 (25).jpg'  '24 (12).jpg'  '29 (17).jpg'  '4 (25).jpg'   '9 (8).jpg'\n",
            "'14 (21).jpg'  '19 (26).jpg'  '24 (13).jpg'  '29 (18).jpg'  '4 (26).jpg'   '9 (9).jpg'\n",
            "'14 (22).jpg'  '19 (27).jpg'  '24 (14).jpg'  '29 (19).jpg'  '4 (27).jpg'    9.jpg\n",
            "'14 (23).jpg'  '19 (28).jpg'  '24 (15).jpg'  '29 (20).jpg'  '4 (28).jpg'\n",
            "'14 (24).jpg'  '19 (2).jpg'   '24 (16).jpg'  '29 (21).jpg'  '4 (2).jpg'\n",
            "'14 (25).jpg'  '19 (3).jpg'   '24 (17).jpg'  '29 (22).jpg'  '4 (3).jpg'\n",
            "'14 (26).jpg'  '19 (4).jpg'   '24 (18).jpg'  '29 (23).jpg'  '4 (4).jpg'\n"
          ]
        }
      ]
    },
    {
      "cell_type": "code",
      "source": [
        "import numpy as np\n",
        "import pandas as pd\n",
        "import os\n",
        "from sklearn.model_selection import train_test_split\n",
        "from sklearn.ensemble import RandomForestClassifier\n",
        "from sklearn.metrics import accuracy_score, classification_report, roc_auc_score\n",
        "from tensorflow.keras.preprocessing.image import ImageDataGenerator\n",
        "import tensorflow as tf\n",
        "from tensorflow.keras.models import Sequential\n",
        "from tensorflow.keras.layers import Conv2D, MaxPooling2D, Flatten, Dense, Dropout\n",
        "from tensorflow.keras.applications import VGG16\n",
        "from tensorflow.keras.models import Model\n",
        "from tensorflow.keras.layers import Dense, Flatten, Dropout\n",
        "from tensorflow.keras.callbacks import EarlyStopping\n",
        "from tensorflow.keras.optimizers import Adam\n",
        "import matplotlib.pyplot as plt\n"
      ],
      "metadata": {
        "id": "MxOi1wA0Dzn5"
      },
      "execution_count": null,
      "outputs": []
    },
    {
      "cell_type": "code",
      "source": [
        "dataset_path = './danush/Alzheimer_MRI_4_classes_dataset/'"
      ],
      "metadata": {
        "id": "HMbQzLlgJ4XO"
      },
      "execution_count": null,
      "outputs": []
    },
    {
      "cell_type": "code",
      "source": [
        "categories = ['MildDemented', 'ModerateDemented', 'NonDemented', 'VeryMildDemented']\n",
        "image_paths = []\n",
        "labels = []\n",
        "\n",
        "for category in categories:\n",
        "    category_path = os.path.join(dataset_path, category)\n",
        "    for img in os.listdir(category_path):\n",
        "        image_paths.append(os.path.join(category_path, img))\n",
        "        labels.append(category)\n",
        "\n",
        "# Convert to numpy arrays\n",
        "image_paths = np.array(image_paths)\n",
        "labels = np.array(labels)\n"
      ],
      "metadata": {
        "id": "2h97cI_oJ7oi"
      },
      "execution_count": null,
      "outputs": []
    },
    {
      "cell_type": "code",
      "source": [
        "# First split into training and testing sets (15% for testing)\n",
        "X_train_val, X_test, y_train_val, y_test = train_test_split(\n",
        "    image_paths, labels, test_size=0.15, random_state=42, stratify=labels\n",
        ")\n",
        "\n",
        "# Then split the training+validation set into training and validation sets (15% for validation)\n",
        "X_train, X_val, y_train, y_val = train_test_split(\n",
        "    X_train_val, y_train_val, test_size=0.1765, random_state=42, stratify=y_train_val\n",
        ")  # 0.1765 is approximately 15% of the original dataset\n"
      ],
      "metadata": {
        "id": "RDRiC64kJ70Z"
      },
      "execution_count": null,
      "outputs": []
    },
    {
      "cell_type": "markdown",
      "source": [
        "Explanation of the Splitting Logic\n",
        "First Split (Training + Validation and Testing):\n",
        "\n",
        "The first call to train_test_split takes the full dataset and sets aside 15% for the testing set. This leaves 85% for training and validation.\n",
        "Second Split (Training and Validation):\n",
        "\n",
        "The second split takes the remaining 85% and divides it into 70% for training and 15% for validation.\n",
        "The test_size=0.1765 parameter is calculated to represent roughly 15% of the total dataset size. When you take 15% of the 85%, it translates to about 12.75% of the original dataset, leaving you with 70% for training."
      ],
      "metadata": {
        "id": "xgfBK6XFKTk2"
      }
    },
    {
      "cell_type": "code",
      "source": [
        "IMG_SIZE = (224, 224)  # Image size\n",
        "BATCH_SIZE = 200         # Batch size\n",
        "\n",
        "# Create a data generator for data augmentation\n",
        "datagen = ImageDataGenerator(\n",
        "    rescale=1./255,               # Normalize pixel values\n",
        "    validation_split=0.15,        # 15% of the training data will be used for validation\n",
        "    rotation_range=10,\n",
        "    width_shift_range=0.1,\n",
        "    height_shift_range=0.1,\n",
        "    shear_range=0.1,\n",
        "    zoom_range=0.1,\n",
        "    horizontal_flip=True\n",
        ")\n",
        "\n",
        "# Load training data\n",
        "train_generator = datagen.flow_from_dataframe(\n",
        "    dataframe=pd.DataFrame({'filename': X_train, 'class': y_train}),\n",
        "    x_col='filename',\n",
        "    y_col='class',\n",
        "    target_size=IMG_SIZE,\n",
        "    batch_size=BATCH_SIZE,\n",
        "    class_mode='categorical',\n",
        "    shuffle=True\n",
        ")\n",
        "\n",
        "# Load validation data\n",
        "val_generator = datagen.flow_from_dataframe(\n",
        "    dataframe=pd.DataFrame({'filename': X_val, 'class': y_val}),\n",
        "    x_col='filename',\n",
        "    y_col='class',\n",
        "    target_size=IMG_SIZE,\n",
        "    batch_size=BATCH_SIZE,\n",
        "    class_mode='categorical',\n",
        "    shuffle=True\n",
        ")\n",
        "\n",
        "# Load test data without augmentation\n",
        "test_datagen = ImageDataGenerator(rescale=1./255)\n",
        "\n",
        "test_generator = test_datagen.flow_from_dataframe(\n",
        "    dataframe=pd.DataFrame({'filename': X_test, 'class': y_test}),\n",
        "    x_col='filename',\n",
        "    y_col='class',\n",
        "    target_size=IMG_SIZE,\n",
        "    batch_size=BATCH_SIZE,\n",
        "    class_mode='categorical',\n",
        "    shuffle=False  # Do not shuffle test data\n",
        ")\n"
      ],
      "metadata": {
        "colab": {
          "base_uri": "https://localhost:8080/"
        },
        "id": "v3-DpdUbJ8G1",
        "outputId": "65330497-133a-4636-90fe-096921a958ea"
      },
      "execution_count": null,
      "outputs": [
        {
          "output_type": "stream",
          "name": "stdout",
          "text": [
            "Found 4479 validated image filenames belonging to 4 classes.\n",
            "Found 961 validated image filenames belonging to 4 classes.\n",
            "Found 960 validated image filenames belonging to 4 classes.\n"
          ]
        }
      ]
    }
  ]
}